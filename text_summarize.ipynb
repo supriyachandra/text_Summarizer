{
 "cells": [
  {
   "cell_type": "code",
   "execution_count": 1,
   "id": "5301f2fe-0aa1-494e-bae0-df1ba17e9d00",
   "metadata": {},
   "outputs": [
    {
     "name": "stdout",
     "output_type": "stream",
     "text": [
      "Requirement already satisfied: sumy in c:\\users\\supri\\anaconda3\\lib\\site-packages (0.11.0)\n",
      "Requirement already satisfied: docopt<0.7,>=0.6.1 in c:\\users\\supri\\anaconda3\\lib\\site-packages (from sumy) (0.6.2)\n",
      "Requirement already satisfied: breadability>=0.1.20 in c:\\users\\supri\\anaconda3\\lib\\site-packages (from sumy) (0.1.20)\n",
      "Requirement already satisfied: requests>=2.7.0 in c:\\users\\supri\\anaconda3\\lib\\site-packages (from sumy) (2.31.0)\n",
      "Requirement already satisfied: pycountry>=18.2.23 in c:\\users\\supri\\anaconda3\\lib\\site-packages (from sumy) (24.6.1)\n",
      "Requirement already satisfied: nltk>=3.0.2 in c:\\users\\supri\\anaconda3\\lib\\site-packages (from sumy) (3.8.1)\n",
      "Requirement already satisfied: chardet in c:\\users\\supri\\anaconda3\\lib\\site-packages (from breadability>=0.1.20->sumy) (4.0.0)\n",
      "Requirement already satisfied: lxml>=2.0 in c:\\users\\supri\\anaconda3\\lib\\site-packages (from breadability>=0.1.20->sumy) (4.9.3)\n",
      "Requirement already satisfied: click in c:\\users\\supri\\anaconda3\\lib\\site-packages (from nltk>=3.0.2->sumy) (8.1.7)\n",
      "Requirement already satisfied: joblib in c:\\users\\supri\\anaconda3\\lib\\site-packages (from nltk>=3.0.2->sumy) (1.2.0)\n",
      "Requirement already satisfied: regex>=2021.8.3 in c:\\users\\supri\\anaconda3\\lib\\site-packages (from nltk>=3.0.2->sumy) (2023.10.3)\n",
      "Requirement already satisfied: tqdm in c:\\users\\supri\\anaconda3\\lib\\site-packages (from nltk>=3.0.2->sumy) (4.65.0)\n",
      "Requirement already satisfied: charset-normalizer<4,>=2 in c:\\users\\supri\\anaconda3\\lib\\site-packages (from requests>=2.7.0->sumy) (2.0.4)\n",
      "Requirement already satisfied: idna<4,>=2.5 in c:\\users\\supri\\anaconda3\\lib\\site-packages (from requests>=2.7.0->sumy) (3.4)\n",
      "Requirement already satisfied: urllib3<3,>=1.21.1 in c:\\users\\supri\\anaconda3\\lib\\site-packages (from requests>=2.7.0->sumy) (2.0.7)\n",
      "Requirement already satisfied: certifi>=2017.4.17 in c:\\users\\supri\\anaconda3\\lib\\site-packages (from requests>=2.7.0->sumy) (2024.7.4)\n",
      "Requirement already satisfied: colorama in c:\\users\\supri\\anaconda3\\lib\\site-packages (from click->nltk>=3.0.2->sumy) (0.4.6)\n",
      "Note: you may need to restart the kernel to use updated packages.\n"
     ]
    }
   ],
   "source": [
    "pip install sumy"
   ]
  },
  {
   "cell_type": "code",
   "execution_count": 3,
   "id": "3c35b37b-85e8-4fb7-927a-ce349f195ff7",
   "metadata": {},
   "outputs": [],
   "source": [
    "import sumy"
   ]
  },
  {
   "cell_type": "code",
   "execution_count": 5,
   "id": "999fc9f0-c294-497a-922a-8024d2f8c0e6",
   "metadata": {},
   "outputs": [
    {
     "name": "stderr",
     "output_type": "stream",
     "text": [
      "[nltk_data] Downloading package punkt to\n",
      "[nltk_data]     C:\\Users\\supri\\AppData\\Roaming\\nltk_data...\n",
      "[nltk_data]   Package punkt is already up-to-date!\n"
     ]
    },
    {
     "data": {
      "text/plain": [
       "True"
      ]
     },
     "execution_count": 5,
     "metadata": {},
     "output_type": "execute_result"
    }
   ],
   "source": [
    "import nltk\n",
    "nltk.download('punkt')"
   ]
  },
  {
   "cell_type": "code",
   "execution_count": 11,
   "id": "58142cea-cbb0-4150-adec-e777eb72beed",
   "metadata": {},
   "outputs": [
    {
     "name": "stdout",
     "output_type": "stream",
     "text": [
      "1 hour ago Iran-Israel Attack LIVE Updates: Israel and Iran on Sunday exchanged attacks for the third day, with the Israeli military saying it conducted an \"extensive series of strikes\" on the headquarters of the Iranian Defence Ministry and the SPND nuclear project. The fresh attacks were exchanged after the Israeli military launched Operation \"Rising Lion\" and struck Iran's nuclear and military sites early Friday. \n"
     ]
    }
   ],
   "source": [
    "# Import necessary libraries\n",
    "from sumy.parsers.plaintext import PlaintextParser\n",
    "from sumy.nlp.tokenizers import Tokenizer\n",
    "from sumy.summarizers.text_rank import TextRankSummarizer\n",
    "\n",
    "text = \"\"\"1 hour ago Iran-Israel Attack LIVE Updates: Israel and Iran on Sunday exchanged attacks for the third day, with the Israeli military saying it conducted an \"extensive series of strikes\" on the headquarters of the Iranian Defence Ministry and the SPND nuclear project. The Israeli Defence Forces (IDF) said the targets also included the place where Iran \"hid its nuclear archive\".\n",
    "\n",
    "Air raid sirens were also sounded across Jerusalem and Tel Aviv after Iran's new wave of attacks. Iran's Revolutionary Guards said Iranian forces targeted Israel's energy infrastructure and facilities for fighter jet fuel production. The fresh attacks were exchanged after the Israeli military launched Operation \"Rising Lion\" and struck Iran's nuclear and military sites early Friday.\n",
    "\n",
    "Prime Minister Benjamin Netanyahu said the operation was launched to \"roll back the Iranian threat to Israel's very survival\".  \"This operation will continue for as many days as it takes to remove this threat,\" he said.\n",
    "\n",
    "President Donald Trump has urged Tehran to reach a deal with the US on its nuclear program, adding that \"Iran must make a deal, before there is nothing left.\"\"\"\n",
    "# Multi-line text data\n",
    "text = text\n",
    "\n",
    "# Create a PlaintextParser object with your text data\n",
    "parser = PlaintextParser.from_string(text, Tokenizer(\"english\"))\n",
    "\n",
    "# Initialize the TextRankSummarizer\n",
    "summarizer = TextRankSummarizer()\n",
    "\n",
    "# Summarize the document; '2' is the number of sentences in the summary\n",
    "summary = summarizer(parser.document, 2)\n",
    "\n",
    "# Concatenate the summary sentences into a single string\n",
    "text_summary = \"\"\n",
    "for sentence in summary:\n",
    "    text_summary += str(sentence) + \" \"\n",
    "\n",
    "# Print the summarized text\n",
    "print(text_summary)"
   ]
  },
  {
   "cell_type": "code",
   "execution_count": null,
   "id": "02eec1a7-15e0-4d84-a913-8e4250016d99",
   "metadata": {},
   "outputs": [],
   "source": []
  }
 ],
 "metadata": {
  "kernelspec": {
   "display_name": "Python 3 (ipykernel)",
   "language": "python",
   "name": "python3"
  },
  "language_info": {
   "codemirror_mode": {
    "name": "ipython",
    "version": 3
   },
   "file_extension": ".py",
   "mimetype": "text/x-python",
   "name": "python",
   "nbconvert_exporter": "python",
   "pygments_lexer": "ipython3",
   "version": "3.11.7"
  }
 },
 "nbformat": 4,
 "nbformat_minor": 5
}
